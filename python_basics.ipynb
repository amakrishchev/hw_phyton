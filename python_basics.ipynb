{
 "cells": [
  {
   "cell_type": "markdown",
   "metadata": {},
   "source": [
    "**Задание 1**. Даны 2 строки: *long_phrase* и *short_phrase*. \n",
    "Напишите код, который проверяет действительно ли длинная фраза *long_phrase* длиннее короткой *short_phrase*. И выводит *True* или *False* в зависимости от результата сравнения."
   ]
  },
  {
   "cell_type": "code",
   "execution_count": 3,
   "metadata": {},
   "outputs": [],
   "source": [
    "long_phrase = 'Насколько проще было бы писать программы, если бы не заказчики'\n",
    "short_phrase = '640Кб должно хватить для любых задач. Билл Гейтс (по легенде)'"
   ]
  },
  {
   "cell_type": "code",
   "execution_count": 6,
   "metadata": {},
   "outputs": [
    {
     "data": {
      "text/plain": [
       "True"
      ]
     },
     "execution_count": 6,
     "metadata": {},
     "output_type": "execute_result"
    }
   ],
   "source": [
    "long_phrase > short_phrase"
   ]
  },
  {
   "cell_type": "markdown",
   "metadata": {},
   "source": [
    "**Задание 2**. Дано значение объема файла в байтах (*в мегабайте 2^20 байт*). Напишите перевод этого значения в мегабайты в формате: \"*Объем файла равен 213.68Mb*\"."
   ]
  },
  {
   "cell_type": "code",
   "execution_count": 13,
   "metadata": {},
   "outputs": [
    {
     "name": "stdout",
     "output_type": "stream",
     "text": [
      "Введите размер файла в байтах 2097152\n",
      "Объем файла равен  2.0 Mb\n"
     ]
    }
   ],
   "source": [
    "bait = int(input(\"Введите размер файла в байтах \"))\n",
    "print ('Объем файла равен ', bait/(2**20),'Mb')"
   ]
  },
  {
   "cell_type": "markdown",
   "metadata": {},
   "source": [
    "**Задание 3**. Разработать приложение для определения знака зодиака по дате рождения. Пример:\n",
    "\n",
    "Введите месяц: март\n",
    "\n",
    "Введите число: 6\n",
    "\n",
    "Вывод:\n",
    "Рыбы"
   ]
  },
  {
   "cell_type": "code",
   "execution_count": 29,
   "metadata": {},
   "outputs": [
    {
     "name": "stdout",
     "output_type": "stream",
     "text": [
      "Введите месяц: 6\n",
      "Введите число: 14\n",
      "Близнецы\n"
     ]
    }
   ],
   "source": [
    "month = int(input('Введите месяц: '))\n",
    "day = int(input('Введите число: '))\n",
    "if month < 2 and day < 21:\n",
    "    print('Козерог')\n",
    "elif (month < 3 and day < 19) or (month < 2 and day > 20):\n",
    "    print('Водолей')    \n",
    "elif (month < 4 and day < 21) or (month < 3 and day > 18):\n",
    "    print('Рыбы')\n",
    "elif (month < 5 and day < 21) or (month < 4 and day > 20):\n",
    "    print('Овен')\n",
    "elif (month < 6 and day < 21) or (month < 5 and day > 20):\n",
    "    print('Телец')\n",
    "elif (month < 7 and day < 22) or (month < 6 and day > 20):\n",
    "    print('Близнецы')\n",
    "elif (month < 8 and day < 23) or (month < 7 and day > 21):\n",
    "    print('Рак')\n",
    "elif (month < 9 and day < 24) or (month < 8 and day > 22):\n",
    "    print('Лев')\n",
    "elif (month < 10 and day < 24) or (month < 9 and day > 23):\n",
    "    print('Дева')\n",
    "elif (month < 11 and day < 24) or (month < 10 and day > 23):\n",
    "    print('Весы')\n",
    "elif (month < 12 and day < 23) or (month < 11 and day > 23):\n",
    "    print('Скорпион')\n",
    "elif (month < 13 and day < 22) or (month < 12 and day > 22):\n",
    "    print('Стрелец')\n",
    "elif month < 13 and day > 21:\n",
    "    print('Козерог')\n",
    "else:\n",
    "    print('Ничего хорошего')"
   ]
  },
  {
   "cell_type": "markdown",
   "metadata": {},
   "source": [
    "**Задание 4**. Нужно разработать приложение для финансового планирования.\n",
    "Приложение учитывает сколько уходит на ипотеку, \"на жизнь\" и сколько нужно отложить на пенсию.\n",
    "Пользователь вводит:\n",
    "- заработанную плату в месяц.\n",
    "- сколько процентов от ЗП уходит на ипотеку.\n",
    "- сколько процентов от ЗП уходит \"на жизнь\".\n",
    "- сколько раз приходит премия в год.\n",
    "\n",
    "Остальная часть заработанной платы откладывается на пенсию.\n",
    "\n",
    "Также пользователю приходит премия в размере зарплаты, от которой половина уходит на отпуск, а вторая половина откладывается.\n",
    "\n",
    "Программа должна учитывать сколько премий было в год.\n",
    "\n",
    "Нужно вывести сколько денег тратит пользователь на ипотеку и сколько он накопит за год.\n",
    "\n",
    "Пример:\n",
    "\n",
    "Введите заработанную плату в месяц: 100000\n",
    "\n",
    "Введите сколько процентов уходит на ипотеку: 30\n",
    "\n",
    "Введите сколько процентов уходит на жизнь: 50\n",
    "\n",
    "Введите количество премий за год: 2\n",
    "\n",
    "Вывод:\n",
    "На ипотеку было потрачено: 360000 рублей\n",
    "Было накоплено: 340000 рублей"
   ]
  },
  {
   "cell_type": "code",
   "execution_count": 35,
   "metadata": {},
   "outputs": [
    {
     "name": "stdout",
     "output_type": "stream",
     "text": [
      "Введите заработанную плату в месяц: 100000\n",
      "Введите сколько процентов уходит на ипотеку: 30\n",
      "Введите сколько процентов уходит на жизнь: 50\n",
      "Введите количество премий за год: 2\n",
      "На ипотеку было потрачено:  360000  рублей. Было накоплено:  340000  рублей\n"
     ]
    }
   ],
   "source": [
    "zarplata = int(input('Введите заработанную плату в месяц: '))\n",
    "ipoteka = int(input('Введите сколько процентов уходит на ипотеку: '))\n",
    "life = int(input('Введите сколько процентов уходит на жизнь: '))\n",
    "premia = int(input('Введите количество премий за год: '))\n",
    "sum_ipoteka = ipoteka/100 * zarplata * 12\n",
    "sum_nakopl = zarplata/2 * premia + (100 - ipoteka - life)/100 * zarplata * 12\n",
    "print('На ипотеку было потрачено: ',int(sum_ipoteka),' рублей. Было накоплено: ',int(sum_nakopl),' рублей')"
   ]
  }
 ],
 "metadata": {
  "kernelspec": {
   "display_name": "Python 3",
   "language": "python",
   "name": "python3"
  },
  "language_info": {
   "codemirror_mode": {
    "name": "ipython",
    "version": 3
   },
   "file_extension": ".py",
   "mimetype": "text/x-python",
   "name": "python",
   "nbconvert_exporter": "python",
   "pygments_lexer": "ipython3",
   "version": "3.8.8"
  }
 },
 "nbformat": 4,
 "nbformat_minor": 2
}
